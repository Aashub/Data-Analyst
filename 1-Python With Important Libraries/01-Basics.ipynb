{
 "cells": [
  {
   "cell_type": "markdown",
   "metadata": {},
   "source": [
    "#what is Syntax \n",
    " "
   ]
  },
  {
   "cell_type": "markdown",
   "metadata": {},
   "source": [
    "#what is symantix"
   ]
  },
  {
   "cell_type": "code",
   "execution_count": 10,
   "metadata": {},
   "outputs": [
    {
     "name": "stdout",
     "output_type": "stream",
     "text": [
      "Ashish\n",
      "Yash\n"
     ]
    }
   ],
   "source": [
    "#Basic Python Syntax Rules\n",
    "#case sensitivity: Python is a case sensitive Language\n",
    "name = \"Ashish\"\n",
    "Name = \"Yash\"\n",
    "\n",
    "print(name)\n",
    "print(Name)"
   ]
  },
  {
   "cell_type": "markdown",
   "metadata": {},
   "source": [
    "#Indentation\n",
    "\n",
    " In Python, indentation means adding spaces at the start of a line to show that the code belongs to a group or block. It’s like using a visual layout to organize your code.\n"
   ]
  },
  {
   "cell_type": "code",
   "execution_count": 12,
   "metadata": {},
   "outputs": [
    {
     "name": "stdout",
     "output_type": "stream",
     "text": [
      "32\n",
      "32\n"
     ]
    }
   ],
   "source": [
    "age = 32\n",
    "if age > 20:\n",
    "    print(age)\n",
    "print(age)"
   ]
  },
  {
   "cell_type": "markdown",
   "metadata": {},
   "source": [
    "#Line Continuation Syntax: \\\n",
    "\n",
    "#In Python, line continuation is a way to write a long statement across multiple lines to make your code more readable. Python allows you to split a statement into multiple lines using certain techniques."
   ]
  },
  {
   "cell_type": "code",
   "execution_count": 13,
   "metadata": {},
   "outputs": [
    {
     "name": "stdout",
     "output_type": "stream",
     "text": [
      "40\n"
     ]
    }
   ],
   "source": [
    "num = 3+2+5+6+7+4+0+2+2+\\\n",
    "2+5+2+0\n",
    "\n",
    "print(num)     "
   ]
  },
  {
   "cell_type": "markdown",
   "metadata": {},
   "source": [
    "#Multiple Statement in a Single line Syntax: ;\n",
    "\n",
    "In Python, you can write multiple statements on a single line by separating them with a semicolon (;). However, this is generally discouraged for readability reasons."
   ]
  },
  {
   "cell_type": "code",
   "execution_count": 18,
   "metadata": {},
   "outputs": [
    {
     "name": "stdout",
     "output_type": "stream",
     "text": [
      "51\n"
     ]
    }
   ],
   "source": [
    "a= 23; b= 24; c=4; \n",
    "print(a+b+c)"
   ]
  },
  {
   "cell_type": "markdown",
   "metadata": {},
   "source": [
    "Symantix \n",
    "\n",
    "In Python, semantics refers to the meaning or behavior of the code. It describes how the Python interpreter executes a statement and what effect it has. While syntax focuses on the rules of how the code should be written (e.g., indentation or proper use of keywords), semantics focuses on what the code does when it runs."
   ]
  },
  {
   "cell_type": "code",
   "execution_count": 20,
   "metadata": {},
   "outputs": [
    {
     "name": "stdout",
     "output_type": "stream",
     "text": [
      "32\n",
      "print\n"
     ]
    }
   ],
   "source": [
    "system1 = 32\n",
    "system2 = \"print\"\n",
    "\n",
    "print(system1)\n",
    "print(system2)\n"
   ]
  },
  {
   "cell_type": "code",
   "execution_count": 21,
   "metadata": {},
   "outputs": [
    {
     "name": "stdout",
     "output_type": "stream",
     "text": [
      "<class 'int'>\n",
      "<class 'str'>\n"
     ]
    }
   ],
   "source": [
    "#type Inference: Type inference in Python means the interpreter automatically figures out the\n",
    "#  type of a variable based on the value you assign to it. You don’tneed to declare the type manually.\n",
    "\n",
    "system = 32\n",
    "print(type(system))\n",
    "system = \"print\"\n",
    "print(type(system))\n"
   ]
  }
 ],
 "metadata": {
  "kernelspec": {
   "display_name": "venv",
   "language": "python",
   "name": "python3"
  },
  "language_info": {
   "codemirror_mode": {
    "name": "ipython",
    "version": 3
   },
   "file_extension": ".py",
   "mimetype": "text/x-python",
   "name": "python",
   "nbconvert_exporter": "python",
   "pygments_lexer": "ipython3",
   "version": "3.12.0"
  }
 },
 "nbformat": 4,
 "nbformat_minor": 2
}
