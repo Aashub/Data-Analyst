{
 "cells": [
  {
   "cell_type": "markdown",
   "metadata": {},
   "source": [
    "Declaration and assigining variable in python\n",
    "\n",
    "In Python, declaring and assigning a variable is simple because you don't need to explicitly declare the type of the variable. You just create a variable by assigning a value to it.\n",
    "\n",
    "Declaration and Assignment:\n",
    "Declaration: When you create a variable name.\n",
    "Assignment: When you give it a value using the = operator."
   ]
  },
  {
   "cell_type": "code",
   "execution_count": 1,
   "metadata": {},
   "outputs": [
    {
     "name": "stdout",
     "output_type": "stream",
     "text": [
      "age: 32\n",
      "height: 6.4\n",
      "name: System\n",
      "is_data_analyst: True\n"
     ]
    }
   ],
   "source": [
    "#Declarying and Assigning Variable\n",
    "age = 32\n",
    "height = 6.4\n",
    "name = \"System\"\n",
    "is_data_analyst = True\n",
    "\n",
    "#Printing Varaiable\n",
    "print(f\"age: {age}\")\n",
    "print(f\"height: {height}\")\n",
    "print(f\"name: {name}\")\n",
    "print(f\"is_data_analyst: {is_data_analyst}\")\n"
   ]
  },
  {
   "cell_type": "markdown",
   "metadata": {},
   "source": [
    "Naming Conventions\n",
    "\n",
    "In Python, naming conventions are guidelines for naming variables, functions, classes, and other identifiers to make the code readable and consistent. While Python is flexible with naming, following these conventions helps maintain clarity.\n",
    "\n",
    "General Rules:\n",
    "Case-Sensitivity: Python is case-sensitive (myVar and myvar are different).\n",
    "Allowed Characters: Names can include letters, numbers, and underscores (_), but cannot start with a number.\n",
    "Avoid Keywords: Do not use Python reserved keywords (like if, while, class) as names."
   ]
  },
  {
   "cell_type": "code",
   "execution_count": 2,
   "metadata": {},
   "outputs": [],
   "source": [
    "#valid variable Name:\n",
    "\n",
    "first_name = \"Ashish\"\n",
    "Last_name = \"Bamniya\"\n",
    "\n",
    "#Invalid variable Name:\n",
    "\n",
    "#@first_name = \"Ashish\"\n",
    "#2last_name = \"Bamniya\""
   ]
  },
  {
   "cell_type": "markdown",
   "metadata": {},
   "source": [
    "Python Dynamic Programming Language\n",
    "\n",
    "Python is called a dynamically typed programming language because you don’t need to explicitly declare the type of a variable when creating it. The type of the variable is determined at runtime, based on the value assigned to it."
   ]
  },
  {
   "cell_type": "markdown",
   "metadata": {},
   "source": [
    "Type Checking and Type Conversion\n",
    "\n",
    "Type Checking in Python\n",
    "Type checking refers to determining the type of a variable or value at runtime. Python provides several ways to check the type of an object.\n",
    "\n",
    "1. Using type() Function:\n",
    "\n",
    "Type Conversion in Python\n",
    "Type conversion refers to converting a variable from one type to another. This can be done either implicitly (automatically by Python) or explicitly (using conversion functions).\n",
    "\n",
    "You can explicitly convert a variable to a different type using functions like int(), float(), str(), etc.\n",
    "\n",
    "\n"
   ]
  },
  {
   "cell_type": "code",
   "execution_count": 3,
   "metadata": {},
   "outputs": [
    {
     "name": "stdout",
     "output_type": "stream",
     "text": [
      "32\n",
      "<class 'int'>\n",
      "32\n",
      "<class 'str'>\n"
     ]
    }
   ],
   "source": [
    "#Type Checking\n",
    "age = 32\n",
    "print(age)\n",
    "print(type(age))\n",
    "\n",
    "#Type Conversion\n",
    "str_age = str(age)\n",
    "print(str_age)\n",
    "print(type(str_age))"
   ]
  },
  {
   "cell_type": "markdown",
   "metadata": {},
   "source": [
    "Input\n",
    "\n",
    "In Python, the input function is used to get data from the user during program execution.\n",
    "\n",
    "input() Function:\n",
    "The input() function reads a line of text from the user, and returns it as a string."
   ]
  },
  {
   "cell_type": "code",
   "execution_count": 5,
   "metadata": {},
   "outputs": [
    {
     "name": "stdout",
     "output_type": "stream",
     "text": [
      "ashish\n",
      "32\n",
      "6.6\n"
     ]
    }
   ],
   "source": [
    "name = input(\"What is your Name?\")\n",
    "age = int(input(\"What is your age?\"))\n",
    "height = float(input(\"What is your Height\"))\n",
    "\n",
    "print(name)\n",
    "print(age)\n",
    "print(height)"
   ]
  }
 ],
 "metadata": {
  "kernelspec": {
   "display_name": "venv",
   "language": "python",
   "name": "python3"
  },
  "language_info": {
   "codemirror_mode": {
    "name": "ipython",
    "version": 3
   },
   "file_extension": ".py",
   "mimetype": "text/x-python",
   "name": "python",
   "nbconvert_exporter": "python",
   "pygments_lexer": "ipython3",
   "version": "3.12.0"
  }
 },
 "nbformat": 4,
 "nbformat_minor": 2
}
